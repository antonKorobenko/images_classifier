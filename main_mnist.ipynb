{
 "cells": [
  {
   "cell_type": "code",
   "execution_count": 17,
   "metadata": {},
   "outputs": [],
   "source": [
    "import torch\n",
    "import torchvision\n",
    "import torchvision.transforms as transforms\n",
    "import matplotlib.pyplot as plt\n",
    "import torch.nn as nn\n",
    "import torch.nn.functional as functional\n",
    "import torch.optim as optim\n",
    "\n",
    "import os\n",
    "import shutil"
   ]
  },
  {
   "cell_type": "code",
   "execution_count": 18,
   "metadata": {},
   "outputs": [],
   "source": [
    "# define hyperparameters\n",
    "N_EPOCHS = 2\n",
    "BATCH_SIZE_TRAINING = 100\n",
    "BATCH_SIZE_TEST = 1000\n",
    "LEARNING_RATE = 0.1"
   ]
  },
  {
   "cell_type": "code",
   "execution_count": 19,
   "metadata": {},
   "outputs": [],
   "source": [
    "class MyNet(nn.Module):\n",
    "    def __init__(self):\n",
    "        super(MyNet, self).__init__()\n",
    "        self.conv1 = nn.Conv2d(1, 10, kernel_size=5)\n",
    "        self.conv2 = nn.Conv2d(10, 20, kernel_size=5)\n",
    "        self.conv2_drop = nn.Dropout2d()\n",
    "        self.fc1 = nn.Linear(320, 50)\n",
    "        self.fc2 = nn.Linear(50, 10)\n",
    "\n",
    "    def forward(self, x):\n",
    "        x = functional.relu(functional.max_pool2d(self.conv1(x), 2))\n",
    "        x = functional.relu(functional.max_pool2d(\n",
    "            self.conv2_drop(self.conv2(x)), 2))\n",
    "        x = x.view(-1, 320)\n",
    "        x = functional.relu(self.fc1(x))\n",
    "        x = functional.dropout(x, training=self.training)\n",
    "        x = self.fc2(x)\n",
    "        return functional.log_softmax(x)"
   ]
  },
  {
   "cell_type": "code",
   "execution_count": 20,
   "metadata": {},
   "outputs": [],
   "source": [
    "def get_data():\n",
    "    # get data with torchvision\n",
    "    train_loader = torch.utils.data.DataLoader(\n",
    "        torchvision.datasets.MNIST('./data/', train=True, download=True,\n",
    "                                   transform=torchvision.transforms.Compose([\n",
    "                                       torchvision.transforms.ToTensor(),\n",
    "                                       torchvision.transforms.Normalize(\n",
    "                                           (0.1307,), (0.3081,))\n",
    "                                   ])),\n",
    "        batch_size=BATCH_SIZE_TRAINING, shuffle=True)\n",
    "\n",
    "    test_loader = torch.utils.data.DataLoader(\n",
    "        torchvision.datasets.MNIST('./data/', train=False, download=True,\n",
    "                                   transform=torchvision.transforms.Compose([\n",
    "                                       torchvision.transforms.ToTensor(),\n",
    "                                       torchvision.transforms.Normalize(\n",
    "                                           (0.1307,), (0.3081,))\n",
    "                                   ])),\n",
    "        batch_size=BATCH_SIZE_TEST, shuffle=True)\n",
    "\n",
    "    return train_loader, test_loader"
   ]
  },
  {
   "cell_type": "code",
   "execution_count": 21,
   "metadata": {},
   "outputs": [],
   "source": [
    "def train(epoch, network, optimizer, loader, losses, counter):\n",
    "    network.train()\n",
    "    for batch_idx, (data, target) in enumerate(loader):\n",
    "        optimizer.zero_grad()\n",
    "        output = network(data)\n",
    "        loss = functional.nll_loss(output, target)\n",
    "        loss.backward()\n",
    "        optimizer.step()\n",
    "        if batch_idx % 100 == 0:\n",
    "            print('Train Epoch: {} [{}/{} ({:.0f}%)]\\tLoss: {:.6f}'\n",
    "                  .format(\n",
    "                      epoch, batch_idx * len(data),\n",
    "                      len(loader.dataset),\n",
    "                      100. * batch_idx / len(loader),\n",
    "                      loss.item()\n",
    "                  )\n",
    "                  )\n",
    "            losses.append(loss.item())\n",
    "            counter.append(\n",
    "                (batch_idx*64) + ((epoch-1)*len(loader.dataset)))\n",
    "            torch.save(network.state_dict(), './results/model.pth')\n",
    "            torch.save(optimizer.state_dict(), './results/optimizer.pth')\n",
    "\n",
    "def test(network, loader, losses, counter):\n",
    "    network.eval()\n",
    "    test_loss = 0\n",
    "    correct = 0\n",
    "    with torch.no_grad():\n",
    "        for data, target in loader:\n",
    "            output = network(data)\n",
    "            test_loss += functional.nll_loss(output,\n",
    "                                             target, size_average=False).item()\n",
    "            pred = output.data.max(1, keepdim=True)[1]\n",
    "            correct += pred.eq(target.data.view_as(pred)).sum()\n",
    "    test_loss /= len(loader.dataset)\n",
    "    losses.append(test_loss)\n",
    "    print('\\nTest set: Avg. loss: {:.4f}, Accuracy: {}/{} ({:.0f}%)\\n'.format(\n",
    "        test_loss, correct, len(loader.dataset),\n",
    "        100. * correct / len(loader.dataset)))"
   ]
  },
  {
   "cell_type": "code",
   "execution_count": 22,
   "metadata": {},
   "outputs": [],
   "source": [
    "def visualize(train_counter, train_losses, test_counter, test_losses):\n",
    "    fig = plt.figure()\n",
    "    plt.plot(train_counter, train_losses, color='blue')\n",
    "    plt.scatter(test_counter, test_losses, color='red')\n",
    "    plt.legend(['Train Loss', 'Test Loss'], loc='upper right')\n",
    "    plt.xlabel('number of training examples seen')\n",
    "    plt.ylabel('negative log likelihood loss')\n",
    "    fig"
   ]
  },
  {
   "cell_type": "code",
   "execution_count": 23,
   "metadata": {},
   "outputs": [],
   "source": [
    "def main():\n",
    "    train_loader, test_loader = get_data()\n",
    "    network = MyNet()\n",
    "    optimizer = optim.SGD(network.parameters(),\n",
    "                          lr=LEARNING_RATE)\n",
    "\n",
    "    # remove gradients for saving memory\n",
    "    optimizer.zero_grad()\n",
    "    try:\n",
    "        os.mkdir(\"results\")\n",
    "    except FileExistsError as err:\n",
    "        shutil.rmtree(\"results\")\n",
    "        os.mkdir(\"results\")\n",
    "\n",
    "    train_losses = []\n",
    "    train_counter = []\n",
    "\n",
    "    test_losses = []\n",
    "    test_counter = [i*len(train_loader.dataset) for i in range(N_EPOCHS + 1)]\n",
    "\n",
    "    test(network, test_loader, test_losses, test_counter)\n",
    "    for ep in range(1, N_EPOCHS + 1):\n",
    "        train(ep, network, optimizer, train_loader, train_losses, train_counter)\n",
    "        test(network, test_loader, test_losses, test_counter)\n",
    "\n",
    "    visualize(train_counter, train_losses, test_counter, test_losses)"
   ]
  },
  {
   "cell_type": "code",
   "execution_count": 24,
   "metadata": {},
   "outputs": [
    {
     "name": "stderr",
     "output_type": "stream",
     "text": [
      "C:\\Users\\Anton\\AppData\\Local\\Temp/ipykernel_3156/4103797466.py:18: UserWarning: Implicit dimension choice for log_softmax has been deprecated. Change the call to include dim=X as an argument.\n",
      "  return functional.log_softmax(x)\n"
     ]
    },
    {
     "name": "stdout",
     "output_type": "stream",
     "text": [
      "\n",
      "Test set: Avg. loss: 2.2998, Accuracy: 1031/10000 (10%)\n",
      "\n",
      "Train Epoch: 1 [0/60000 (0%)]\tLoss: 2.298460\n",
      "Train Epoch: 1 [10000/60000 (17%)]\tLoss: 0.716664\n",
      "Train Epoch: 1 [20000/60000 (33%)]\tLoss: 0.632510\n",
      "Train Epoch: 1 [30000/60000 (50%)]\tLoss: 0.462122\n",
      "Train Epoch: 1 [40000/60000 (67%)]\tLoss: 0.377523\n",
      "Train Epoch: 1 [50000/60000 (83%)]\tLoss: 0.341376\n",
      "\n",
      "Test set: Avg. loss: 0.1009, Accuracy: 9679/10000 (97%)\n",
      "\n",
      "Train Epoch: 2 [0/60000 (0%)]\tLoss: 0.243433\n",
      "Train Epoch: 2 [10000/60000 (17%)]\tLoss: 0.402981\n",
      "Train Epoch: 2 [20000/60000 (33%)]\tLoss: 0.248848\n",
      "Train Epoch: 2 [30000/60000 (50%)]\tLoss: 0.300803\n",
      "Train Epoch: 2 [40000/60000 (67%)]\tLoss: 0.206807\n",
      "Train Epoch: 2 [50000/60000 (83%)]\tLoss: 0.268073\n",
      "\n",
      "Test set: Avg. loss: 0.0809, Accuracy: 9749/10000 (97%)\n",
      "\n"
     ]
    },
    {
     "data": {
      "image/png": "[encoded data removed]",
      "text/plain": [
       "<Figure size 432x288 with 1 Axes>"
      ]
     },
     "metadata": {
      "needs_background": "light"
     },
     "output_type": "display_data"
    }
   ],
   "source": [
    "main()"
   ]
  }
 ],
 "metadata": {
  "interpreter": {
   "hash": "c71dcc72a0dfe207550a7e83ffe04560f6ee9f148e0ad1929b2b97d9e5670a86"
  },
  "kernelspec": {
   "display_name": "Python 3.9.5 64-bit ('.venv': venv)",
   "language": "python",
   "name": "python3"
  },
  "language_info": {
   "codemirror_mode": {
    "name": "ipython",
    "version": 3
   },
   "file_extension": ".py",
   "mimetype": "text/x-python",
   "name": "python",
   "nbconvert_exporter": "python",
   "pygments_lexer": "ipython3",
   "version": "3.9.5"
  },
  "orig_nbformat": 4
 },
 "nbformat": 4,
 "nbformat_minor": 2
}
